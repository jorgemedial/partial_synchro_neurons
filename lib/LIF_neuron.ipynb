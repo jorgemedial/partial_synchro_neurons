{
 "cells": [
  {
   "cell_type": "code",
   "execution_count": null,
   "metadata": {},
   "outputs": [],
   "source": [
    "import brian2 as b2\n",
    "import matplotlib.pyplot as plt\n",
    "import brian2tools as b2t\n",
    "import numpy as np\n",
    "import seaborn as sns\n",
    "import matplotlib.pyplot as plt\n",
    "import pandas as pd\n",
    "from scipy.signal import find_peaks\n",
    "from scipy.ndimage import gaussian_filter1d\n",
    "\n",
    "from functions import *"
   ]
  },
  {
   "cell_type": "markdown",
   "metadata": {},
   "source": [
    "# Synapsis"
   ]
  },
  {
   "cell_type": "code",
   "execution_count": null,
   "metadata": {},
   "outputs": [],
   "source": [
    "b2.start_scope()\n",
    "\n",
    "N = 100\n",
    "v_L = -67\n",
    "v_I = -80\n",
    "v_thr = -40\n",
    "v_res = -70\n",
    "duration = 1000*b2.ms\n",
    "sigma = 0.1\n",
    "I_dc = 3.4/b2.ms\n",
    "g_L = 0.1/b2.ms\n",
    "tau = 0.1*b2.ms\n",
    "tau_D = 20*b2.ms\n"
   ]
  },
  {
   "cell_type": "code",
   "execution_count": null,
   "metadata": {},
   "outputs": [],
   "source": [
    "eqs = '''\n",
    "    dv/dt = g_L*(v_L-v) + I_dc + g*(v_I - v) + sigma*xi*tau**-0.5 : 1\n",
    "    dg/dt = (R-g)/tau_D : hertz\n",
    "    dR/dt = -R/tau_D : hertz\n",
    "'''\n",
    "\n",
    "G = b2.NeuronGroup(\n",
    "        N,\n",
    "        eqs, \n",
    "        threshold='v>v_thr',\n",
    "        reset='v=v_res'\n",
    "    )\n",
    "\n",
    "initial_v =  np.random.uniform(low=v_res, high=v_thr, size=N)\n",
    "G.v =  np.random.uniform(low=v_res, high=v_thr, size=N)\n",
    "G.g = 100/b2.second\n"
   ]
  },
  {
   "cell_type": "code",
   "execution_count": null,
   "metadata": {},
   "outputs": [],
   "source": [
    "S2 = b2.Synapses(G, G, model='''w : hertz # synaptic weight''', on_pre='R+=w')\n",
    "\n",
    "S2.connect(condition='i!=j')\n",
    "S2.w = 4*b2.hertz\n"
   ]
  },
  {
   "cell_type": "code",
   "execution_count": null,
   "metadata": {},
   "outputs": [],
   "source": [
    "\n",
    "spike_mon = b2.SpikeMonitor(G)\n",
    "monitor = b2.StateMonitor(G, variables=True, record=True)\n",
    "mon_syn = b2.StateMonitor(S2, variables=True, record=True)\n",
    "rate_mon = b2.PopulationRateMonitor(G)\n",
    "\n",
    "\n",
    "# a simple run would not include the monitors\n",
    "net = b2.Network(b2.collect())  # automatically include G and S\n",
    "net.add(monitor)  # manually add the monitors\n",
    "\n",
    "net.run(duration)\n"
   ]
  },
  {
   "cell_type": "code",
   "execution_count": null,
   "metadata": {},
   "outputs": [],
   "source": [
    "plt.figure(figsize=(18,4))\n",
    "for neuron_id in range(4,5):\n",
    "    b2.plot(monitor.t/b2.ms, monitor.v[neuron_id], label=f'Neuron {neuron_id}')\n"
   ]
  },
  {
   "cell_type": "code",
   "execution_count": null,
   "metadata": {},
   "outputs": [],
   "source": [
    "b2t.brian_plot(spike_mon)"
   ]
  },
  {
   "cell_type": "code",
   "execution_count": null,
   "metadata": {},
   "outputs": [],
   "source": [
    "\n",
    "class VoltageMap:\n",
    "    def __init__(self, voltages, spikes, duration, v_res, v_thr, v_resolution=500):\n",
    "        self.voltages = voltages\n",
    "        self.v_res = v_res\n",
    "        self.v_thr = v_thr\n",
    "        self.v_resolution = v_resolution\n",
    "        self.duration = duration\n",
    "        self.time_steps = voltages.shape[1]\n",
    "        self.N_neurons = voltages.shape[0]\n",
    "        self.density = np.empty((v_resolution, self.time_steps))\n",
    "        self.density_computed = False\n",
    "        self.spikes = pd.DataFrame.from_dict(spikes, orient='index').stack()\n",
    "        self.interspike_times = self.spikes.groupby(level=0).diff()\n",
    "\n",
    "    def get_density(self):\n",
    "        for t in range(self.time_steps):\n",
    "            self.density[:, t] = np.histogram(\n",
    "                self.voltages[:, t],\n",
    "                range=(self.v_res, self.v_thr),\n",
    "                bins=self.v_resolution,\n",
    "            )[0]\n",
    "        self.density_computed = True\n",
    "\n",
    "    def plot_density(self):\n",
    "        if not self.density_computed:\n",
    "            self.get_density()\n",
    "\n",
    "        fig, ax = plt.subplots(figsize=(20, 8))\n",
    "        ax.set_xlabel('Time (ms)')\n",
    "        ax.set_ylabel('Voltage (mV)')\n",
    "        xgrid = np.linspace(0, self.duration, self.time_steps)\n",
    "        ygrid = np.linspace(self.v_res, self.v_thr, self.v_resolution)\n",
    "        v_map = ax.pcolormesh(xgrid, ygrid, self.density, shading='auto')\n",
    "        fig.colorbar(v_map)\n",
    "        return v_map\n",
    "\n",
    "    def plot_rasterplot(self):\n",
    "        if not self.density_computed:\n",
    "            self.get_density()\n",
    "\n",
    "        fig, ax = plt.subplots(figsize=(20, 8))\n",
    "        ax.set_xlabel('Time (ms)')\n",
    "        ax.set_ylabel('Neuron Cell')\n",
    "        xgrid = np.linspace(0, self.duration, self.time_steps)\n",
    "        ygrid = np.array(range(self.N_neurons))\n",
    "        v_map = ax.pcolormesh(xgrid, ygrid, self.voltages, shading='auto')\n",
    "        fig.colorbar(v_map)\n",
    "        return v_map\n"
   ]
  },
  {
   "cell_type": "code",
   "execution_count": null,
   "metadata": {},
   "outputs": [],
   "source": [
    "volts = np.array(monitor.v)\n",
    "v_map = VoltageMap(volts, duration=duration, spikes=spike_mon.values('t'), v_res=v_res, v_thr=v_thr, v_resolution=200)\n",
    "v_map.plot_density()"
   ]
  },
  {
   "cell_type": "code",
   "execution_count": null,
   "metadata": {},
   "outputs": [],
   "source": [
    "v_map.plot_rasterplot()"
   ]
  },
  {
   "cell_type": "code",
   "execution_count": null,
   "metadata": {},
   "outputs": [],
   "source": [
    "v_map.spikes"
   ]
  },
  {
   "cell_type": "code",
   "execution_count": null,
   "metadata": {},
   "outputs": [],
   "source": [
    "rate_mon.smooth_rate(window='gaussian', width=25*b2.second)"
   ]
  },
  {
   "cell_type": "code",
   "execution_count": null,
   "metadata": {},
   "outputs": [],
   "source": [
    "global_rate = pd.DataFrame(\n",
    "    {\n",
    "        'rate': rate_mon.rate/b2.hertz,\n",
    "    },\n",
    ")\n",
    "\n",
    "global_rate['time'] = rate_mon.t\n",
    "for index in range(len(rate_mon)):\n",
    "    = rate_mon.t[index]"
   ]
  },
  {
   "cell_type": "code",
   "execution_count": null,
   "metadata": {},
   "outputs": [],
   "source": [
    "global_rate['time']"
   ]
  },
  {
   "cell_type": "code",
   "execution_count": null,
   "metadata": {},
   "outputs": [],
   "source": [
    "pd.Series(rate_mon.t)"
   ]
  },
  {
   "cell_type": "code",
   "execution_count": null,
   "metadata": {},
   "outputs": [],
   "source": [
    "global_rate['time'].iloc[1:3]"
   ]
  },
  {
   "cell_type": "code",
   "execution_count": null,
   "metadata": {},
   "outputs": [],
   "source": [
    "global_rate['rate_smooth'] = gaussian_filter1d(\n",
    "    input=global_rate['rate'],\n",
    "    sigma=25\n",
    ") "
   ]
  },
  {
   "cell_type": "code",
   "execution_count": null,
   "metadata": {},
   "outputs": [],
   "source": [
    "global_rate['time']"
   ]
  },
  {
   "cell_type": "code",
   "execution_count": null,
   "metadata": {},
   "outputs": [],
   "source": [
    "peak_indices = find_peaks(global_rate['rate_smooth'])[0]\n",
    "global_spikes = pd.DataFrame({\n",
    "    'peak_time': global_rate['time'].iloc[peak_indices]\n",
    "})"
   ]
  },
  {
   "cell_type": "code",
   "execution_count": null,
   "metadata": {},
   "outputs": [],
   "source": [
    "global_spikes = pd.concat(\n",
    "    [\n",
    "        pd.DataFrame({global_spikes.columns[0]: [0]}),\n",
    "        global_spikes,\n",
    "        pd.DataFrame({global_spikes.columns[0]: [duration]/b2.second}),\n",
    "    ],\n",
    "    ignore_index=True\n",
    ")"
   ]
  },
  {
   "cell_type": "code",
   "execution_count": null,
   "metadata": {},
   "outputs": [],
   "source": [
    "global_spikes['next_cycle'] = global_spikes['peak_time'].rolling(2).mean().shift(-1)"
   ]
  },
  {
   "cell_type": "code",
   "execution_count": null,
   "metadata": {},
   "outputs": [],
   "source": [
    "global_spikes"
   ]
  },
  {
   "cell_type": "code",
   "execution_count": null,
   "metadata": {},
   "outputs": [],
   "source": [
    "v_map.spikes.between(\n",
    "    global_spikes['next_cycle'].iat[0],\n",
    "    global_spikes['next_cycle'].iat[1]\n",
    ")"
   ]
  },
  {
   "cell_type": "code",
   "execution_count": null,
   "metadata": {},
   "outputs": [],
   "source": [
    "plt.plot(global_rate.index, global_rate['rate']/10)\n",
    "plt.plot(global_rate.index, global_rate['rate_smooth'])\n",
    "plt.scatter(global_spikes['t'], global_spikes.rate_smooth, color='red')"
   ]
  }
 ],
 "metadata": {
  "interpreter": {
   "hash": "767d51c1340bd893661ea55ea3124f6de3c7a262a8b4abca0554b478b1e2ff90"
  },
  "kernelspec": {
   "display_name": "Python 3",
   "language": "python",
   "name": "python3"
  },
  "language_info": {
   "codemirror_mode": {
    "name": "ipython",
    "version": 3
   },
   "file_extension": ".py",
   "mimetype": "text/x-python",
   "name": "python",
   "nbconvert_exporter": "python",
   "pygments_lexer": "ipython3",
   "version": "3.6.9"
  }
 },
 "nbformat": 4,
 "nbformat_minor": 2
}
